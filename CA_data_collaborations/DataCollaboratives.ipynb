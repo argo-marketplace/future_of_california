{
 "cells": [
  {
   "cell_type": "code",
   "execution_count": null,
   "metadata": {},
   "outputs": [],
   "source": [
    "import pandas as pd\n",
    "import numpy as np\n",
    "import urllib\n",
    "import urllib.request as request\n",
    "import matplotlib.pyplot as plt\n",
    "import seaborn as sns\n",
    "import json\n",
    "from bs4 import BeautifulSoup\n",
    "from github import Github\n",
    "from github import GithubException, RateLimitExceededException\n",
    "from config import token as token\n",
    "import time"
   ]
  },
  {
   "cell_type": "code",
   "execution_count": null,
   "metadata": {},
   "outputs": [],
   "source": [
    "url = 'https://government.github.com/community/'\n",
    "html_response = request.urlopen(url)\n",
    "soup = BeautifulSoup(html_response, 'html.parser')"
   ]
  },
  {
   "cell_type": "code",
   "execution_count": null,
   "metadata": {},
   "outputs": [],
   "source": [
    "c1, c2, c3, c4, c5 = [], [], [], [], []\n",
    "for div in soup.find_all('div', id = lambda x: x and x.startswith('include')):\n",
    "    subDiv = div.find_all('div', id = lambda x: x and x.startswith('type'))\n",
    "    for child in subDiv:\n",
    "        leafDiv = child.find_all('div', class_ = lambda x: x and x.endswith('org'))\n",
    "        for leaf in leafDiv:\n",
    "            org = leaf.find_all('a')\n",
    "            for k in org:\n",
    "                c1.append(div.get('id').split('-')[1])\n",
    "                c2.append(child.get('id').split('-')[1])\n",
    "                c3.append(k.get('title'))\n",
    "                c4.append(k.get('href'))"
   ]
  },
  {
   "cell_type": "code",
   "execution_count": null,
   "metadata": {},
   "outputs": [],
   "source": [
    "df = pd.DataFrame()\n",
    "df['Type'] = c1\n",
    "df['Country/Division'] = c2\n",
    "df['Name'] = c3\n",
    "df['Homepage'] = c4"
   ]
  },
  {
   "cell_type": "code",
   "execution_count": null,
   "metadata": {},
   "outputs": [],
   "source": [
    "df.head()"
   ]
  },
  {
   "cell_type": "code",
   "execution_count": null,
   "metadata": {},
   "outputs": [],
   "source": [
    "df.shape"
   ]
  },
  {
   "cell_type": "code",
   "execution_count": null,
   "metadata": {},
   "outputs": [],
   "source": [
    "l0, l1, l2, l3 = [], [], [], []"
   ]
  },
  {
   "cell_type": "code",
   "execution_count": null,
   "metadata": {},
   "outputs": [],
   "source": [
    "for org in c3:\n",
    "    try:\n",
    "        g = Github(token)\n",
    "        u = g.get_user(org)\n",
    "        rls = u.get_repos()\n",
    "        for r in rls:\n",
    "#             print(org, r, rl.remaining)\n",
    "            while g.get_rate_limit().core.remaining <= 1:\n",
    "                print('API access rate limit reached sleeping')\n",
    "                time.sleep(60)\n",
    "            l0.append(org)\n",
    "            l1.append(r.name)\n",
    "            l2.append(r.language)\n",
    "            l3.append(r.get_contributors().totalCount)\n",
    "    except GithubException:\n",
    "        print('The repo does not have required information')"
   ]
  },
  {
   "cell_type": "code",
   "execution_count": null,
   "metadata": {},
   "outputs": [],
   "source": [
    "df2 = pd.DataFrame()\n",
    "df2['Country/Division'] = l0\n",
    "df2['RepoName'] = l1\n",
    "df2['Language'] = l2\n",
    "df2['Contributors'] = l3"
   ]
  },
  {
   "cell_type": "code",
   "execution_count": null,
   "metadata": {},
   "outputs": [],
   "source": [
    "df2.shape"
   ]
  },
  {
   "cell_type": "code",
   "execution_count": null,
   "metadata": {},
   "outputs": [],
   "source": [
    "output1 = df[['Country/Division', 'Type']]\n",
    "output1 = output1.rename(columns={'Country/Division': 'government_name', 'Type': 'repo_count'})"
   ]
  },
  {
   "cell_type": "code",
   "execution_count": null,
   "metadata": {},
   "outputs": [],
   "source": [
    "output1 = output1.groupby('government_name', as_index=False).count()"
   ]
  },
  {
   "cell_type": "code",
   "execution_count": null,
   "metadata": {},
   "outputs": [],
   "source": [
    "output1.head()"
   ]
  },
  {
   "cell_type": "code",
   "execution_count": null,
   "metadata": {},
   "outputs": [],
   "source": [
    "output1.to_csv('gov_repo_count.csv')"
   ]
  },
  {
   "cell_type": "code",
   "execution_count": null,
   "metadata": {},
   "outputs": [],
   "source": [
    "df2.to_csv('gov_repo_spec.csv')"
   ]
  }
 ],
 "metadata": {
  "kernelspec": {
   "display_name": "scraping",
   "language": "python",
   "name": "scarping"
  },
  "language_info": {
   "codemirror_mode": {
    "name": "ipython",
    "version": 3
   },
   "file_extension": ".py",
   "mimetype": "text/x-python",
   "name": "python",
   "nbconvert_exporter": "python",
   "pygments_lexer": "ipython3",
   "version": "3.7.1"
  }
 },
 "nbformat": 4,
 "nbformat_minor": 2
}
